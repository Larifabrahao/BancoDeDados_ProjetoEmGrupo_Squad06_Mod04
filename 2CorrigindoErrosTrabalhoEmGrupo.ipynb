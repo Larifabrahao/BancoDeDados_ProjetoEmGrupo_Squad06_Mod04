{
  "cells": [
    {
      "cell_type": "markdown",
      "metadata": {
        "id": "view-in-github",
        "colab_type": "text"
      },
      "source": [
        "<a href=\"https://colab.research.google.com/github/Larifabrahao/BancoDeDados_ProjetoEmGrupo_Squad06_Mod04/blob/main/2CorrigindoErrosTrabalhoEmGrupo.ipynb\" target=\"_parent\"><img src=\"https://colab.research.google.com/assets/colab-badge.svg\" alt=\"Open In Colab\"/></a>"
      ]
    },
    {
      "cell_type": "markdown",
      "metadata": {
        "id": "7y6NxEiJyhFc"
      },
      "source": [
        "# Importações\n"
      ]
    },
    {
      "cell_type": "code",
      "execution_count": null,
      "metadata": {
        "id": "fzT9_vqLKABv"
      },
      "outputs": [],
      "source": [
        "import pandas as pd\n",
        "import numpy as np\n",
        "import matplotlib.pyplot as plt\n",
        "import seaborn as sns\n",
        "from sqlalchemy import create_engine\n",
        "\n"
      ]
    },
    {
      "cell_type": "markdown",
      "metadata": {
        "id": "XsKI4HmHyhFe"
      },
      "source": [
        "# Configuções Iniciais\n"
      ]
    },
    {
      "cell_type": "code",
      "execution_count": null,
      "metadata": {
        "id": "08mGF2-SyhFe"
      },
      "outputs": [],
      "source": [
        "plt.style.use('default')"
      ]
    },
    {
      "cell_type": "markdown",
      "metadata": {
        "id": "ZsWjxclmyhFe"
      },
      "source": [
        "# Caminhos relativos para os dados na mesma pasta que o notebook"
      ]
    },
    {
      "cell_type": "code",
      "execution_count": null,
      "metadata": {
        "id": "5RyGZXtxKVFv"
      },
      "outputs": [],
      "source": [
        "data_paths = {\n",
        "    'BNB': '/content/moedas/coin_BinanceCoin.csv',\n",
        "    'BTC': '/content/moedas/coin_Bitcoin.csv',\n",
        "    'ADA': '/content/moedas/coin_Cardano.csv',\n",
        "    'DOGE': '/content/moedas/coin_Dogecoin.csv',\n",
        "    'ETH': '/content/moedas/coin_Ethereum.csv',\n",
        "    'LTC': '/content/moedas/coin_Litecoin.csv',\n",
        "    'SOL': '/content/moedas/coin_Solana.csv',\n",
        "    'USDT': '/content/moedas/coin_Tether.csv',\n",
        "    'TRX': '/content/moedas/coin_Tron.csv',\n",
        "    'USDC': '/content/moedas/coin_USDCoin.csv'\n",
        "}\n",
        "\n"
      ]
    },
    {
      "cell_type": "markdown",
      "metadata": {
        "id": "hp74zralyhFe"
      },
      "source": [
        "# Carregar os dados"
      ]
    },
    {
      "cell_type": "code",
      "execution_count": null,
      "metadata": {
        "id": "KSHDg4SZyhFe",
        "outputId": "54b96e0b-db92-4223-de75-93f2ca385f41",
        "colab": {
          "base_uri": "https://localhost:8080/"
        }
      },
      "outputs": [
        {
          "output_type": "stream",
          "name": "stdout",
          "text": [
            "Arquivo não encontrado: /content/moedas/coin_BinanceCoin.csv\n",
            "Arquivo não encontrado: /content/moedas/coin_Bitcoin.csv\n",
            "Arquivo não encontrado: /content/moedas/coin_Cardano.csv\n",
            "Arquivo não encontrado: /content/moedas/coin_Dogecoin.csv\n",
            "Arquivo não encontrado: /content/moedas/coin_Ethereum.csv\n",
            "Arquivo não encontrado: /content/moedas/coin_Litecoin.csv\n",
            "Arquivo não encontrado: /content/moedas/coin_Solana.csv\n",
            "Arquivo não encontrado: /content/moedas/coin_Tether.csv\n",
            "Arquivo não encontrado: /content/moedas/coin_Tron.csv\n",
            "Arquivo não encontrado: /content/moedas/coin_USDCoin.csv\n"
          ]
        }
      ],
      "source": [
        "dfs = {}\n",
        "for key, path in data_paths.items():\n",
        "    try:\n",
        "        df = pd.read_csv(path)\n",
        "        if 'Close' in df.columns:\n",
        "            dfs[key] = df\n",
        "        else:\n",
        "            print(f\"A coluna 'Close' não está presente em {key}.\")\n",
        "    except FileNotFoundError:\n",
        "        print(f\"Arquivo não encontrado: {path}\")\n",
        "    except pd.errors.EmptyDataError:\n",
        "        print(f\"Arquivo vazio: {path}\")\n",
        "    except Exception as e:\n",
        "        print(f\"Erro ao ler {path}: {e}\")"
      ]
    },
    {
      "cell_type": "markdown",
      "metadata": {
        "id": "vODzxNTryhFf"
      },
      "source": [
        "# Verificar se os dados foram carregados corretamente"
      ]
    },
    {
      "cell_type": "code",
      "execution_count": null,
      "metadata": {
        "id": "1q2BNFqOyhFf"
      },
      "outputs": [],
      "source": [
        "for key, df in dfs.items():\n",
        "    print(f\"{key} dataframe shape: {df.shape}\")\n",
        "    print(df.head())"
      ]
    },
    {
      "cell_type": "markdown",
      "metadata": {
        "id": "RF8mWCaXyhFf"
      },
      "source": [
        "# Função para limpar os dados"
      ]
    },
    {
      "cell_type": "code",
      "execution_count": null,
      "metadata": {
        "id": "EwniZMdjKnW5"
      },
      "outputs": [],
      "source": [
        "def clean_data(df):\n",
        "    df['Date'] = pd.to_datetime(df['Date'])\n",
        "    df.set_index('Date', inplace=True)\n",
        "    df = df[['Close']]\n",
        "    df = df.apply(pd.to_numeric, errors='coerce')\n",
        "    return df"
      ]
    },
    {
      "cell_type": "markdown",
      "metadata": {
        "id": "oKh8tuo0yhFf"
      },
      "source": [
        "# Limpar todos os dataframes\n"
      ]
    },
    {
      "cell_type": "code",
      "execution_count": null,
      "metadata": {
        "id": "aL-FI6BgyhFf"
      },
      "outputs": [],
      "source": [
        "for key in dfs:\n",
        "    try:\n",
        "        dfs[key] = clean_data(dfs[key])\n",
        "        dfs[key].rename(columns={'Close': key}, inplace=True)\n",
        "    except Exception as e:\n",
        "        print(f\"Erro ao limpar dados de {key}: {e}\")"
      ]
    },
    {
      "cell_type": "markdown",
      "metadata": {
        "id": "39tWP_ZFyhFf"
      },
      "source": [
        "# Unir todos os dataframes em um só"
      ]
    },
    {
      "cell_type": "code",
      "execution_count": null,
      "metadata": {
        "id": "mVunYz1nyhFf",
        "outputId": "ca20062f-1820-49e4-b610-9a77c343fdef",
        "colab": {
          "base_uri": "https://localhost:8080/",
          "height": 287
        }
      },
      "outputs": [
        {
          "output_type": "error",
          "ename": "ValueError",
          "evalue": "No objects to concatenate",
          "traceback": [
            "\u001b[0;31m---------------------------------------------------------------------------\u001b[0m",
            "\u001b[0;31mValueError\u001b[0m                                Traceback (most recent call last)",
            "\u001b[0;32m<ipython-input-8-1814a6488bb4>\u001b[0m in \u001b[0;36m<cell line: 1>\u001b[0;34m()\u001b[0m\n\u001b[0;32m----> 1\u001b[0;31m \u001b[0mcrypto_df\u001b[0m \u001b[0;34m=\u001b[0m \u001b[0mpd\u001b[0m\u001b[0;34m.\u001b[0m\u001b[0mconcat\u001b[0m\u001b[0;34m(\u001b[0m\u001b[0mdfs\u001b[0m\u001b[0;34m.\u001b[0m\u001b[0mvalues\u001b[0m\u001b[0;34m(\u001b[0m\u001b[0;34m)\u001b[0m\u001b[0;34m,\u001b[0m \u001b[0maxis\u001b[0m\u001b[0;34m=\u001b[0m\u001b[0;36m1\u001b[0m\u001b[0;34m)\u001b[0m\u001b[0;34m\u001b[0m\u001b[0;34m\u001b[0m\u001b[0m\n\u001b[0m",
            "\u001b[0;32m/usr/local/lib/python3.10/dist-packages/pandas/core/reshape/concat.py\u001b[0m in \u001b[0;36mconcat\u001b[0;34m(objs, axis, join, ignore_index, keys, levels, names, verify_integrity, sort, copy)\u001b[0m\n\u001b[1;32m    370\u001b[0m         \u001b[0mcopy\u001b[0m \u001b[0;34m=\u001b[0m \u001b[0;32mFalse\u001b[0m\u001b[0;34m\u001b[0m\u001b[0;34m\u001b[0m\u001b[0m\n\u001b[1;32m    371\u001b[0m \u001b[0;34m\u001b[0m\u001b[0m\n\u001b[0;32m--> 372\u001b[0;31m     op = _Concatenator(\n\u001b[0m\u001b[1;32m    373\u001b[0m         \u001b[0mobjs\u001b[0m\u001b[0;34m,\u001b[0m\u001b[0;34m\u001b[0m\u001b[0;34m\u001b[0m\u001b[0m\n\u001b[1;32m    374\u001b[0m         \u001b[0maxis\u001b[0m\u001b[0;34m=\u001b[0m\u001b[0maxis\u001b[0m\u001b[0;34m,\u001b[0m\u001b[0;34m\u001b[0m\u001b[0;34m\u001b[0m\u001b[0m\n",
            "\u001b[0;32m/usr/local/lib/python3.10/dist-packages/pandas/core/reshape/concat.py\u001b[0m in \u001b[0;36m__init__\u001b[0;34m(self, objs, axis, join, keys, levels, names, ignore_index, verify_integrity, copy, sort)\u001b[0m\n\u001b[1;32m    427\u001b[0m \u001b[0;34m\u001b[0m\u001b[0m\n\u001b[1;32m    428\u001b[0m         \u001b[0;32mif\u001b[0m \u001b[0mlen\u001b[0m\u001b[0;34m(\u001b[0m\u001b[0mobjs\u001b[0m\u001b[0;34m)\u001b[0m \u001b[0;34m==\u001b[0m \u001b[0;36m0\u001b[0m\u001b[0;34m:\u001b[0m\u001b[0;34m\u001b[0m\u001b[0;34m\u001b[0m\u001b[0m\n\u001b[0;32m--> 429\u001b[0;31m             \u001b[0;32mraise\u001b[0m \u001b[0mValueError\u001b[0m\u001b[0;34m(\u001b[0m\u001b[0;34m\"No objects to concatenate\"\u001b[0m\u001b[0;34m)\u001b[0m\u001b[0;34m\u001b[0m\u001b[0;34m\u001b[0m\u001b[0m\n\u001b[0m\u001b[1;32m    430\u001b[0m \u001b[0;34m\u001b[0m\u001b[0m\n\u001b[1;32m    431\u001b[0m         \u001b[0;32mif\u001b[0m \u001b[0mkeys\u001b[0m \u001b[0;32mis\u001b[0m \u001b[0;32mNone\u001b[0m\u001b[0;34m:\u001b[0m\u001b[0;34m\u001b[0m\u001b[0;34m\u001b[0m\u001b[0m\n",
            "\u001b[0;31mValueError\u001b[0m: No objects to concatenate"
          ]
        }
      ],
      "source": [
        "crypto_df = pd.concat(dfs.values(), axis=1)"
      ]
    },
    {
      "cell_type": "code",
      "source": [
        "from google.colab import drive\n",
        "drive.mount('/content/drive')"
      ],
      "metadata": {
        "id": "iOj__-y45imh"
      },
      "execution_count": null,
      "outputs": []
    },
    {
      "source": [
        "from google.colab import drive\n",
        "drive.mount('/content/drive', force_remount=True)"
      ],
      "cell_type": "code",
      "metadata": {
        "id": "iu9Eg15W8QNG"
      },
      "execution_count": null,
      "outputs": []
    },
    {
      "source": [
        "from google.colab import drive\n",
        "drive.mount('/content/drive', force_remount=True)"
      ],
      "cell_type": "code",
      "metadata": {
        "id": "QZPW653Y8W5g"
      },
      "execution_count": null,
      "outputs": []
    },
    {
      "cell_type": "markdown",
      "metadata": {
        "id": "ovgE2eIOyhFf"
      },
      "source": [
        "# Verificar os dados consolidados\n"
      ]
    },
    {
      "cell_type": "code",
      "execution_count": null,
      "metadata": {
        "id": "NFRWVBA6yhFf"
      },
      "outputs": [],
      "source": [
        "print(crypto_df.head())"
      ]
    },
    {
      "cell_type": "markdown",
      "metadata": {
        "id": "mJ-tFEcQyhFg"
      },
      "source": [
        "# Análise Exploratória\n"
      ]
    },
    {
      "cell_type": "markdown",
      "metadata": {
        "id": "GgqNJgyfyhFg"
      },
      "source": [
        " 1. Tendências históricas\n"
      ]
    },
    {
      "cell_type": "code",
      "execution_count": null,
      "metadata": {
        "id": "ejTv_Fg6XJkQ"
      },
      "outputs": [],
      "source": [
        "plt.figure(figsize=(14, 7))\n",
        "for column in crypto_df.columns:\n",
        "    if np.issubdtype(crypto_df[column].dtype, np.number):\n",
        "        plt.plot(crypto_df[column], label=column)\n",
        "plt.legend()\n",
        "plt.title('Tendência Histórica das Criptomoedas')\n",
        "plt.xlabel('Ano')\n",
        "plt.ylabel('Preço de Fechamento (USD)')\n",
        "plt.show()"
      ]
    },
    {
      "cell_type": "markdown",
      "metadata": {
        "id": "atsGJkG-yhFg"
      },
      "source": [
        "2. Valores Médios"
      ]
    },
    {
      "cell_type": "code",
      "execution_count": null,
      "metadata": {
        "id": "uG1YbCbuyhFg"
      },
      "outputs": [],
      "source": [
        "mean_values = crypto_df.mean()\n",
        "plt.figure(figsize=(14, 7))\n",
        "mean_values.plot(kind='bar')\n",
        "plt.title('Valores Médios das Criptomoedas')\n",
        "plt.show()"
      ]
    },
    {
      "cell_type": "markdown",
      "metadata": {
        "id": "AltSWOWGyhFg"
      },
      "source": [
        "3. Variação Anual"
      ]
    },
    {
      "cell_type": "code",
      "execution_count": null,
      "metadata": {
        "id": "707gkMGMyhFg"
      },
      "outputs": [],
      "source": [
        "annual_returns = crypto_df.resample('Y').ffill().pct_change() * 100  # Use 'Y' for year-end resampling\n",
        "plt.figure(figsize=(14, 7))\n",
        "annual_returns.plot(kind='bar')\n",
        "plt.title('Variação Anual das Criptomoedas')\n",
        "plt.ylabel('Variação Percentual (%)')\n",
        "plt.show()"
      ]
    },
    {
      "source": [
        "annual_returns = crypto_df.resample('Y').ffill().pct_change() * 100  # Use 'Y' for year-end resampling\n",
        "plt.figure(figsize=(14, 7))\n",
        "annual_returns.plot(kind='bar')\n",
        "plt.title('Variação Anual das Criptomoedas')\n",
        "plt.ylabel('Variação Percentual (%)')\n",
        "plt.show()"
      ],
      "cell_type": "code",
      "metadata": {
        "id": "1ZBZIJA19BiQ"
      },
      "execution_count": null,
      "outputs": []
    },
    {
      "source": [
        "annual_returns = crypto_df.resample('Y').ffill().pct_change() * 100  # Use 'Y' for year-end resampling\n",
        "plt.figure(figsize=(14, 7))\n",
        "annual_returns.plot(kind='bar')\n",
        "plt.title('Variação Anual das Criptomoedas')\n",
        "plt.ylabel('Variação Percentual (%)')\n",
        "plt.show()"
      ],
      "cell_type": "code",
      "metadata": {
        "id": "8hEUaBa68_FB"
      },
      "execution_count": null,
      "outputs": []
    },
    {
      "cell_type": "markdown",
      "metadata": {
        "id": "PgWYFw7lyhFg"
      },
      "source": [
        "4. Análise por dia da semana"
      ]
    },
    {
      "cell_type": "code",
      "execution_count": null,
      "metadata": {
        "id": "9RAQ3jRtyhFg"
      },
      "outputs": [],
      "source": [
        "crypto_df['DayOfWeek'] = crypto_df.index.day_name()\n",
        "mean_by_day = crypto_df.groupby('DayOfWeek').mean()\n",
        "plt.figure(figsize=(14, 7))\n",
        "mean_by_day.plot(kind='bar')\n",
        "plt.title('Média de Valores por Dia da Semana')\n",
        "plt.show()"
      ]
    },
    {
      "cell_type": "markdown",
      "metadata": {
        "id": "Sea14r4syhFg"
      },
      "source": [
        "5. Moeda mais interessante\n"
      ]
    },
    {
      "cell_type": "code",
      "execution_count": null,
      "metadata": {
        "id": "GFjpLuTEyhFg"
      },
      "outputs": [],
      "source": [
        "crypto_df = crypto_df.apply(pd.to_numeric, errors='coerce')\n",
        "\n",
        "annual_returns = crypto_df.resample('Y').ffill().pct_change(fill_method=None) * 100\n",
        "\n",
        "mean_annual_returns = annual_returns.mean()\n",
        "\n",
        "volatility = crypto_df.pct_change(fill_method=None).std() * np.sqrt(252)\n",
        "\n",
        "total_growth = (crypto_df.iloc[-1] / crypto_df.iloc[0] - 1) * 100\n",
        "\n",
        "metrics = pd.DataFrame({\n",
        "    'Mean Annual Return (%)': mean_annual_returns,\n",
        "    'Volatility (Standard Deviation)': volatility,\n",
        "    'Total Growth (%)': total_growth\n",
        "})\n",
        "\n",
        "least_interesting = metrics.idxmax()\n",
        "print(\"\\nMoeda mais interessante por cada critério:\")\n",
        "print(least_interesting)\n",
        "\n",
        "metrics.plot(kind='bar', subplots=True, layout=(3, 1), figsize=(14, 10), legend=True)\n",
        "plt.suptitle('Comparação das Métricas das Criptomoedas')\n",
        "plt.show()"
      ]
    },
    {
      "cell_type": "markdown",
      "metadata": {
        "id": "yCNo1ZTFyhFg"
      },
      "source": [
        "6. Moeda menos interessante\n"
      ]
    },
    {
      "cell_type": "code",
      "execution_count": null,
      "metadata": {
        "id": "LctNeTu6yhFg"
      },
      "outputs": [],
      "source": [
        "least_interesting = metrics.idxmin()\n",
        "print(\"\\nMoeda menos interessante por cada critério:\")\n",
        "print(least_interesting)\n",
        "\n",
        "metrics.plot(kind='bar', subplots=True, layout=(3, 1), figsize=(14, 10), legend=True)\n",
        "plt.suptitle('Comparação das Métricas das Criptomoedas')\n",
        "plt.show()"
      ]
    },
    {
      "cell_type": "markdown",
      "metadata": {
        "id": "b1se2PXMyhFg"
      },
      "source": [
        "7. Correlação entre os valores para todas as criptomoedas"
      ]
    },
    {
      "cell_type": "code",
      "execution_count": null,
      "metadata": {
        "id": "latUomMmyhFh"
      },
      "outputs": [],
      "source": [
        "correlation_matrix = crypto_df.corr()\n",
        "\n",
        "print(correlation_matrix)\n",
        "\n",
        "plt.figure(figsize=(12, 8))\n",
        "sns.heatmap(correlation_matrix, annot=True, cmap='coolwarm', center=0)\n",
        "plt.title('Matriz de Correlação das Criptomoedas')\n",
        "plt.show()"
      ]
    },
    {
      "cell_type": "markdown",
      "metadata": {
        "id": "hPR_S2CjyhFh"
      },
      "source": []
    },
    {
      "cell_type": "markdown",
      "metadata": {
        "id": "TL06maheyhFh"
      },
      "source": [
        "## Perguntas Extras"
      ]
    },
    {
      "cell_type": "markdown",
      "metadata": {
        "id": "PUNSyJxQyhFh"
      },
      "source": [
        "* Qual é a distribuição dos valores para cada criptomoeda?"
      ]
    },
    {
      "cell_type": "code",
      "execution_count": null,
      "metadata": {
        "id": "imumcVVdyhFh"
      },
      "outputs": [],
      "source": [
        "plt.figure(figsize=(14, 7))\n",
        "for column in crypto_df.columns:\n",
        "    if pd.api.types.is_numeric_dtype(crypto_df[column]):\n",
        "        crypto_df[column].plot(kind='hist', alpha=0.5, bins=50, label=column)\n",
        "plt.legend()\n",
        "plt.title('Distribuição dos Valores das Criptomoedas')\n",
        "plt.xlabel('Preço de Fechamento (USD)')\n",
        "plt.ylabel('Frequência')\n",
        "plt.show()\n",
        "\n",
        "plt.figure(figsize=(14, 7))\n",
        "crypto_df.boxplot()\n",
        "plt.title('Boxplot dos Valores das Criptomoedas')\n",
        "plt.ylabel('Preço de Fechamento (USD)')\n",
        "plt.xticks(rotation=45)\n",
        "plt.show()"
      ]
    },
    {
      "cell_type": "markdown",
      "metadata": {
        "id": "baMeLLwfyhFh"
      },
      "source": [
        "* Qual foi o maior e o menor valor registrado para cada criptomoeda ao longo do período analisado?"
      ]
    },
    {
      "cell_type": "code",
      "execution_count": null,
      "metadata": {
        "id": "vifxAxeOyhFh"
      },
      "outputs": [],
      "source": [
        "max_values = crypto_df.max()\n",
        "min_values = crypto_df.min()\n",
        "\n",
        "print(\"Maiores valores registrados para cada criptomoeda:\")\n",
        "print(max_values)\n",
        "\n",
        "print(\"\\nMenores valores registrados para cada criptomoeda:\")\n",
        "print(min_values)"
      ]
    },
    {
      "cell_type": "markdown",
      "metadata": {
        "id": "3GXGPXQdyhFk"
      },
      "source": [
        "# Importação para o Banco de Dados\n",
        "\n"
      ]
    },
    {
      "cell_type": "code",
      "execution_count": 24,
      "metadata": {
        "id": "qnywFVu0yhFk",
        "colab": {
          "base_uri": "https://localhost:8080/"
        },
        "outputId": "7ac468cd-df88-40f4-8c2e-c47d69380e9f"
      },
      "outputs": [
        {
          "output_type": "stream",
          "name": "stdout",
          "text": [
            "Collecting mysql-connector-python\n",
            "  Downloading mysql_connector_python-9.0.0-cp310-cp310-manylinux_2_17_x86_64.whl (19.3 MB)\n",
            "\u001b[2K     \u001b[90m━━━━━━━━━━━━━━━━━━━━━━━━━━━━━━━━━━━━━━━━\u001b[0m \u001b[32m19.3/19.3 MB\u001b[0m \u001b[31m34.6 MB/s\u001b[0m eta \u001b[36m0:00:00\u001b[0m\n",
            "\u001b[?25hInstalling collected packages: mysql-connector-python\n",
            "Successfully installed mysql-connector-python-9.0.0\n"
          ]
        }
      ],
      "source": [
        "!pip install mysql-connector-python"
      ]
    },
    {
      "cell_type": "markdown",
      "metadata": {
        "id": "AbwGZRzeyhFk"
      },
      "source": []
    },
    {
      "cell_type": "markdown",
      "metadata": {
        "id": "_8ipZd5lyhFk"
      },
      "source": [
        "* Conexão do banco de dados com a ferramenta de visualização de dados"
      ]
    },
    {
      "cell_type": "code",
      "execution_count": null,
      "metadata": {
        "id": "-2Iy94WSyhFk"
      },
      "outputs": [],
      "source": []
    },
    {
      "cell_type": "markdown",
      "metadata": {
        "id": "0UilowS7yhFk"
      },
      "source": []
    }
  ],
  "metadata": {
    "colab": {
      "provenance": [],
      "include_colab_link": true
    },
    "kernelspec": {
      "display_name": "Python 3",
      "name": "python3"
    },
    "language_info": {
      "codemirror_mode": {
        "name": "ipython",
        "version": 3
      },
      "file_extension": ".py",
      "mimetype": "text/x-python",
      "name": "python",
      "nbconvert_exporter": "python",
      "pygments_lexer": "ipython3",
      "version": "3.11.4"
    }
  },
  "nbformat": 4,
  "nbformat_minor": 0
}